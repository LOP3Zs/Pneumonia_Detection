{
  "cells": [
    {
      "cell_type": "code",
      "source": [
        "from google.colab import drive\n",
        "drive.mount('/content/drive')\n",
        "!ls /content/drive/MyDrive/chest_xray"
      ],
      "metadata": {
        "colab": {
          "base_uri": "https://localhost:8080/"
        },
        "id": "3CqQFCyfu7sF",
        "outputId": "a40409d6-6b46-4c1f-9fc2-e72efa0ad57d"
      },
      "execution_count": null,
      "outputs": [
        {
          "output_type": "stream",
          "name": "stdout",
          "text": [
            "Mounted at /content/drive\n",
            "densenet121_model_base.h5     densenet121_model_finetune.keras\ttrain\n",
            "densenet121_model_base.keras  test\t\t\t\tTransferDenseNet121.ipynb\n"
          ]
        }
      ]
    },
    {
      "cell_type": "code",
      "execution_count": null,
      "metadata": {
        "id": "wzc7RvPTyWYF"
      },
      "outputs": [],
      "source": [
        "import pandas as pd\n",
        "import matplotlib as mat\n",
        "import matplotlib.pyplot as plt\n",
        "import numpy as np\n",
        "%matplotlib inline\n",
        "import random\n",
        "import os\n",
        "\n",
        "from numpy.random import seed\n",
        "seed(42)\n",
        "\n",
        "random.seed(42)\n",
        "os.environ['PYTHONHASHSEED'] = str(42)\n",
        "os.environ['TF_DETERMINISTIC_OPS'] = '1'\n",
        "\n",
        "from sklearn.model_selection import train_test_split\n",
        "from sklearn import metrics\n",
        "from sklearn.metrics import accuracy_score\n",
        "\n",
        "import tensorflow as tf\n",
        "from tensorflow import keras\n",
        "from tensorflow.keras import layers\n",
        "from tensorflow.keras import callbacks\n",
        "from tensorflow.keras.models import Model\n",
        "from tensorflow.keras.preprocessing.image import ImageDataGenerator\n",
        "\n",
        "import glob\n",
        "\n",
        "from tensorflow.random import set_seed\n",
        "set_seed(42)\n",
        "\n",
        "import warnings\n",
        "warnings.filterwarnings('ignore')"
      ]
    },
    {
      "cell_type": "code",
      "execution_count": null,
      "metadata": {
        "id": "ov3FO2H_yWYK"
      },
      "outputs": [],
      "source": [
        "IMG_SIZE = 224\n",
        "BATCH = 32\n",
        "SEED = 42"
      ]
    },
    {
      "cell_type": "code",
      "execution_count": null,
      "metadata": {
        "id": "sa1sUIN4yWYL"
      },
      "outputs": [],
      "source": [
        "#Data Prepare\n",
        "main_path = \"/content/drive/MyDrive/chest_xray\"\n",
        "\n",
        "\n",
        "train_path = os.path.join(main_path,\"train\")\n",
        "test_path=os.path.join(main_path,\"test\")\n",
        "\n",
        "train_normal = glob.glob(train_path+\"/NORMAL/*.jpeg\")\n",
        "train_pneumonia = glob.glob(train_path+\"/PNEUMONIA/*.jpeg\")\n",
        "\n",
        "test_normal = glob.glob(test_path+\"/NORMAL/*.jpeg\")\n",
        "test_pneumonia = glob.glob(test_path+\"/PNEUMONIA/*.jpeg\")"
      ]
    },
    {
      "cell_type": "code",
      "execution_count": null,
      "metadata": {
        "id": "V0c8MviqyWYM"
      },
      "outputs": [],
      "source": [
        "train_list = [x for x in train_normal]\n",
        "train_list.extend([x for x in train_pneumonia])\n",
        "\n",
        "df_train = pd.DataFrame(np.concatenate([['Normal']*len(train_normal) , ['Pneumonia']*len(train_pneumonia)]), columns = ['class'])\n",
        "df_train['image'] = [x for x in train_list]\n",
        "\n",
        "test_list = [x for x in test_normal]\n",
        "test_list.extend([x for x in test_pneumonia])\n",
        "\n",
        "df_test = pd.DataFrame(np.concatenate([['Normal']*len(test_normal) , ['Pneumonia']*len(test_pneumonia)]), columns = ['class'])\n",
        "df_test['image'] = [x for x in test_list]"
      ]
    },
    {
      "cell_type": "code",
      "execution_count": null,
      "metadata": {
        "colab": {
          "base_uri": "https://localhost:8080/"
        },
        "id": "lp4sep79yWYM",
        "outputId": "b50a4938-eb7c-4d5c-83de-e6f7e7a4a1a3"
      },
      "outputs": [
        {
          "output_type": "stream",
          "name": "stdout",
          "text": [
            "          class                                              image\n",
            "0        Normal  /content/drive/MyDrive/chest_xray/train/NORMAL...\n",
            "1        Normal  /content/drive/MyDrive/chest_xray/train/NORMAL...\n",
            "2        Normal  /content/drive/MyDrive/chest_xray/train/NORMAL...\n",
            "3        Normal  /content/drive/MyDrive/chest_xray/train/NORMAL...\n",
            "4        Normal  /content/drive/MyDrive/chest_xray/train/NORMAL...\n",
            "...         ...                                                ...\n",
            "5227  Pneumonia  /content/drive/MyDrive/chest_xray/train/PNEUMO...\n",
            "5228  Pneumonia  /content/drive/MyDrive/chest_xray/train/PNEUMO...\n",
            "5229  Pneumonia  /content/drive/MyDrive/chest_xray/train/PNEUMO...\n",
            "5230  Pneumonia  /content/drive/MyDrive/chest_xray/train/PNEUMO...\n",
            "5231  Pneumonia  /content/drive/MyDrive/chest_xray/train/PNEUMO...\n",
            "\n",
            "[5232 rows x 2 columns]\n",
            "         class                                              image\n",
            "0       Normal  /content/drive/MyDrive/chest_xray/test/NORMAL/...\n",
            "1       Normal  /content/drive/MyDrive/chest_xray/test/NORMAL/...\n",
            "2       Normal  /content/drive/MyDrive/chest_xray/test/NORMAL/...\n",
            "3       Normal  /content/drive/MyDrive/chest_xray/test/NORMAL/...\n",
            "4       Normal  /content/drive/MyDrive/chest_xray/test/NORMAL/...\n",
            "..         ...                                                ...\n",
            "619  Pneumonia  /content/drive/MyDrive/chest_xray/test/PNEUMON...\n",
            "620  Pneumonia  /content/drive/MyDrive/chest_xray/test/PNEUMON...\n",
            "621  Pneumonia  /content/drive/MyDrive/chest_xray/test/PNEUMON...\n",
            "622  Pneumonia  /content/drive/MyDrive/chest_xray/test/PNEUMON...\n",
            "623  Pneumonia  /content/drive/MyDrive/chest_xray/test/PNEUMON...\n",
            "\n",
            "[624 rows x 2 columns]\n"
          ]
        }
      ],
      "source": [
        "print(df_train)\n",
        "print(df_test)"
      ]
    },
    {
      "cell_type": "code",
      "execution_count": null,
      "metadata": {
        "colab": {
          "base_uri": "https://localhost:8080/",
          "height": 422
        },
        "id": "STVYUV-YyWYP",
        "outputId": "8520b699-21e9-431c-f78f-9c9654f3b717"
      },
      "outputs": [
        {
          "output_type": "display_data",
          "data": {
            "text/plain": [
              "<Figure size 700x500 with 1 Axes>"
            ],
            "image/png": "[encoded data removed]"
          },
          "metadata": {}
        }
      ],
      "source": [
        "plt.figure(figsize=(7,5))\n",
        "\n",
        "df_train['class'].value_counts().plot(kind='pie',labels = ['',''], autopct='%1.1f%%', colors = ['darkcyan','blue'], explode = [0,0.05], textprops = {\"fontsize\":15})\n",
        "\n",
        "plt.legend(labels=['Pneumonia', 'Normal'])\n",
        "plt.show()"
      ]
    },
    {
      "cell_type": "code",
      "execution_count": null,
      "metadata": {
        "colab": {
          "base_uri": "https://localhost:8080/",
          "height": 422
        },
        "id": "6Qv6nNSjyWYQ",
        "outputId": "c39e7e5b-0087-4b42-bf8d-038f69eb94c1"
      },
      "outputs": [
        {
          "output_type": "display_data",
          "data": {
            "text/plain": [
              "<Figure size 700x500 with 1 Axes>"
            ],
            "image/png": "[encoded data removed]"
          },
          "metadata": {}
        }
      ],
      "source": [
        "plt.figure(figsize=(7,5))\n",
        "\n",
        "df_test['class'].value_counts().plot(kind='pie',labels = ['',''], autopct='%1.1f%%', colors = ['darkcyan','blue'], explode = [0,0.05], textprops = {\"fontsize\":15})\n",
        "\n",
        "plt.legend(labels=['Pneumonia', 'Normal'])\n",
        "plt.show()"
      ]
    },
    {
      "cell_type": "code",
      "execution_count": null,
      "metadata": {
        "id": "leVJXN9myWYS"
      },
      "outputs": [],
      "source": [
        "train_df, val_df = train_test_split(df_train, test_size = 0.20, random_state = SEED, stratify = df_train['class'])"
      ]
    },
    {
      "cell_type": "code",
      "execution_count": null,
      "metadata": {
        "colab": {
          "base_uri": "https://localhost:8080/"
        },
        "id": "RBF4CM2ZyWYU",
        "outputId": "0626ee0e-ade6-4257-e765-3453b458b4e9"
      },
      "outputs": [
        {
          "output_type": "stream",
          "name": "stdout",
          "text": [
            "Found 4185 validated image filenames belonging to 2 classes.\n",
            "Found 1047 validated image filenames belonging to 2 classes.\n",
            "Found 624 validated image filenames belonging to 2 classes.\n"
          ]
        }
      ],
      "source": [
        "train_datagen = ImageDataGenerator(rescale=1/255.,\n",
        "                                  zoom_range = 0.1,\n",
        "                                  rotation_range = 0.1,\n",
        "                                  width_shift_range = 0.1,\n",
        "                                  height_shift_range = 0.1)\n",
        "\n",
        "val_datagen = ImageDataGenerator(rescale=1/255.)\n",
        "\n",
        "ds_train = train_datagen.flow_from_dataframe(train_df,\n",
        "                                             #directory=train_path,\n",
        "                                             x_col = 'image',\n",
        "                                             y_col = 'class',\n",
        "                                             target_size = (IMG_SIZE, IMG_SIZE),\n",
        "                                             class_mode = 'binary',\n",
        "                                             batch_size = BATCH,\n",
        "                                             seed = SEED)\n",
        "\n",
        "ds_val = val_datagen.flow_from_dataframe(val_df,\n",
        "                                            #directory=train_path,\n",
        "                                            x_col = 'image',\n",
        "                                            y_col = 'class',\n",
        "                                            target_size = (IMG_SIZE, IMG_SIZE),\n",
        "                                            class_mode = 'binary',\n",
        "                                            batch_size = BATCH,\n",
        "                                            seed = SEED)\n",
        "\n",
        "ds_test = val_datagen.flow_from_dataframe(df_test,\n",
        "                                            #directory=test_path,\n",
        "                                            x_col = 'image',\n",
        "                                            y_col = 'class',\n",
        "                                            target_size = (IMG_SIZE, IMG_SIZE),\n",
        "                                            class_mode = 'binary',\n",
        "                                            batch_size = 1,\n",
        "                                            shuffle = False)"
      ]
    },
    {
      "cell_type": "code",
      "execution_count": null,
      "metadata": {
        "id": "NQrYYW1myWYX",
        "colab": {
          "base_uri": "https://localhost:8080/"
        },
        "outputId": "de91688b-5c19-4438-cea6-fe41f0e5a9d8"
      },
      "outputs": [
        {
          "output_type": "stream",
          "name": "stdout",
          "text": [
            "Downloading data from https://storage.googleapis.com/tensorflow/keras-applications/densenet/densenet121_weights_tf_dim_ordering_tf_kernels_notop.h5\n",
            "\u001b[1m29084464/29084464\u001b[0m \u001b[32m━━━━━━━━━━━━━━━━━━━━\u001b[0m\u001b[37m\u001b[0m \u001b[1m2s\u001b[0m 0us/step\n"
          ]
        }
      ],
      "source": [
        "from tensorflow.keras.applications import DenseNet121\n",
        "from tensorflow.keras import layers, models, optimizers\n",
        "base_model = DenseNet121(weights='imagenet', include_top=False, input_shape=(IMG_SIZE, IMG_SIZE, 3))\n",
        "base_model.trainable = False"
      ]
    },
    {
      "cell_type": "code",
      "execution_count": null,
      "metadata": {
        "id": "K7Luq2ttyWYY"
      },
      "outputs": [],
      "source": [
        "model = models.Sequential([\n",
        "    base_model,\n",
        "    layers.GlobalAveragePooling2D(),\n",
        "    layers.Dense(256, activation='relu'),\n",
        "    layers.Dropout(0.5),\n",
        "    layers.Dense(1, activation='sigmoid')\n",
        "])"
      ]
    },
    {
      "cell_type": "code",
      "execution_count": null,
      "metadata": {
        "id": "Ftq4zxqxyWYY"
      },
      "outputs": [],
      "source": [
        "model.compile(optimizer=optimizers.Adam(learning_rate=1e-4),\n",
        "              loss='binary_crossentropy',\n",
        "              metrics=['Recall'])"
      ]
    },
    {
      "cell_type": "code",
      "execution_count": null,
      "metadata": {
        "colab": {
          "base_uri": "https://localhost:8080/"
        },
        "id": "WjwVeVs3yWYZ",
        "outputId": "d3d9b15a-dc7d-4bfa-a4ed-019d2e31d3e1"
      },
      "outputs": [
        {
          "output_type": "stream",
          "name": "stdout",
          "text": [
            "Epoch 1/50\n",
            "\u001b[1m131/131\u001b[0m \u001b[32m━━━━━━━━━━━━━━━━━━━━\u001b[0m\u001b[37m\u001b[0m \u001b[1m114s\u001b[0m 868ms/step - Recall: 0.9510 - loss: 0.2209 - val_Recall: 0.9550 - val_loss: 0.1860\n",
            "Epoch 2/50\n",
            "\u001b[1m131/131\u001b[0m \u001b[32m━━━━━━━━━━━━━━━━━━━━\u001b[0m\u001b[37m\u001b[0m \u001b[1m111s\u001b[0m 848ms/step - Recall: 0.9559 - loss: 0.1910 - val_Recall: 0.9550 - val_loss: 0.1693\n",
            "Epoch 3/50\n",
            "\u001b[1m131/131\u001b[0m \u001b[32m━━━━━━━━━━━━━━━━━━━━\u001b[0m\u001b[37m\u001b[0m \u001b[1m117s\u001b[0m 896ms/step - Recall: 0.9575 - loss: 0.1783 - val_Recall: 0.9485 - val_loss: 0.1610\n",
            "Epoch 4/50\n",
            "\u001b[1m131/131\u001b[0m \u001b[32m━━━━━━━━━━━━━━━━━━━━\u001b[0m\u001b[37m\u001b[0m \u001b[1m110s\u001b[0m 842ms/step - Recall: 0.9615 - loss: 0.1593 - val_Recall: 0.9099 - val_loss: 0.1865\n",
            "Epoch 5/50\n",
            "\u001b[1m131/131\u001b[0m \u001b[32m━━━━━━━━━━━━━━━━━━━━\u001b[0m\u001b[37m\u001b[0m \u001b[1m109s\u001b[0m 835ms/step - Recall: 0.9636 - loss: 0.1430 - val_Recall: 0.9382 - val_loss: 0.1493\n",
            "Epoch 6/50\n",
            "\u001b[1m131/131\u001b[0m \u001b[32m━━━━━━━━━━━━━━━━━━━━\u001b[0m\u001b[37m\u001b[0m \u001b[1m109s\u001b[0m 833ms/step - Recall: 0.9623 - loss: 0.1631 - val_Recall: 0.9331 - val_loss: 0.1444\n",
            "Epoch 7/50\n",
            "\u001b[1m131/131\u001b[0m \u001b[32m━━━━━━━━━━━━━━━━━━━━\u001b[0m\u001b[37m\u001b[0m \u001b[1m111s\u001b[0m 850ms/step - Recall: 0.9659 - loss: 0.1377 - val_Recall: 0.9318 - val_loss: 0.1512\n",
            "Epoch 8/50\n",
            "\u001b[1m131/131\u001b[0m \u001b[32m━━━━━━━━━━━━━━━━━━━━\u001b[0m\u001b[37m\u001b[0m \u001b[1m112s\u001b[0m 859ms/step - Recall: 0.9658 - loss: 0.1430 - val_Recall: 0.9498 - val_loss: 0.1311\n",
            "Epoch 9/50\n",
            "\u001b[1m131/131\u001b[0m \u001b[32m━━━━━━━━━━━━━━━━━━━━\u001b[0m\u001b[37m\u001b[0m \u001b[1m111s\u001b[0m 849ms/step - Recall: 0.9708 - loss: 0.1316 - val_Recall: 0.9395 - val_loss: 0.1353\n",
            "Epoch 10/50\n",
            "\u001b[1m131/131\u001b[0m \u001b[32m━━━━━━━━━━━━━━━━━━━━\u001b[0m\u001b[37m\u001b[0m \u001b[1m111s\u001b[0m 845ms/step - Recall: 0.9711 - loss: 0.1261 - val_Recall: 0.9344 - val_loss: 0.1406\n",
            "Epoch 11/50\n",
            "\u001b[1m131/131\u001b[0m \u001b[32m━━━━━━━━━━━━━━━━━━━━\u001b[0m\u001b[37m\u001b[0m \u001b[1m111s\u001b[0m 845ms/step - Recall: 0.9671 - loss: 0.1240 - val_Recall: 0.9485 - val_loss: 0.1261\n",
            "Epoch 12/50\n",
            "\u001b[1m131/131\u001b[0m \u001b[32m━━━━━━━━━━━━━━━━━━━━\u001b[0m\u001b[37m\u001b[0m \u001b[1m110s\u001b[0m 840ms/step - Recall: 0.9733 - loss: 0.1070 - val_Recall: 0.9408 - val_loss: 0.1301\n",
            "Epoch 13/50\n",
            "\u001b[1m131/131\u001b[0m \u001b[32m━━━━━━━━━━━━━━━━━━━━\u001b[0m\u001b[37m\u001b[0m \u001b[1m112s\u001b[0m 852ms/step - Recall: 0.9719 - loss: 0.1109 - val_Recall: 0.9459 - val_loss: 0.1259\n",
            "Epoch 14/50\n",
            "\u001b[1m131/131\u001b[0m \u001b[32m━━━━━━━━━━━━━━━━━━━━\u001b[0m\u001b[37m\u001b[0m \u001b[1m114s\u001b[0m 870ms/step - Recall: 0.9760 - loss: 0.1060 - val_Recall: 0.9408 - val_loss: 0.1250\n",
            "Epoch 15/50\n",
            "\u001b[1m131/131\u001b[0m \u001b[32m━━━━━━━━━━━━━━━━━━━━\u001b[0m\u001b[37m\u001b[0m \u001b[1m112s\u001b[0m 854ms/step - Recall: 0.9737 - loss: 0.1085 - val_Recall: 0.9511 - val_loss: 0.1187\n",
            "Epoch 16/50\n",
            "\u001b[1m131/131\u001b[0m \u001b[32m━━━━━━━━━━━━━━━━━━━━\u001b[0m\u001b[37m\u001b[0m \u001b[1m111s\u001b[0m 850ms/step - Recall: 0.9733 - loss: 0.1152 - val_Recall: 0.9447 - val_loss: 0.1211\n",
            "Epoch 17/50\n",
            "\u001b[1m131/131\u001b[0m \u001b[32m━━━━━━━━━━━━━━━━━━━━\u001b[0m\u001b[37m\u001b[0m \u001b[1m111s\u001b[0m 847ms/step - Recall: 0.9685 - loss: 0.1043 - val_Recall: 0.9447 - val_loss: 0.1188\n",
            "Epoch 18/50\n",
            "\u001b[1m131/131\u001b[0m \u001b[32m━━━━━━━━━━━━━━━━━━━━\u001b[0m\u001b[37m\u001b[0m \u001b[1m113s\u001b[0m 862ms/step - Recall: 0.9749 - loss: 0.0912 - val_Recall: 0.9395 - val_loss: 0.1241\n",
            "Epoch 19/50\n",
            "\u001b[1m131/131\u001b[0m \u001b[32m━━━━━━━━━━━━━━━━━━━━\u001b[0m\u001b[37m\u001b[0m \u001b[1m111s\u001b[0m 846ms/step - Recall: 0.9741 - loss: 0.0980 - val_Recall: 0.9524 - val_loss: 0.1095\n",
            "Epoch 20/50\n",
            "\u001b[1m131/131\u001b[0m \u001b[32m━━━━━━━━━━━━━━━━━━━━\u001b[0m\u001b[37m\u001b[0m \u001b[1m110s\u001b[0m 842ms/step - Recall: 0.9741 - loss: 0.1040 - val_Recall: 0.9614 - val_loss: 0.1057\n",
            "Epoch 21/50\n",
            "\u001b[1m131/131\u001b[0m \u001b[32m━━━━━━━━━━━━━━━━━━━━\u001b[0m\u001b[37m\u001b[0m \u001b[1m109s\u001b[0m 830ms/step - Recall: 0.9703 - loss: 0.1061 - val_Recall: 0.9408 - val_loss: 0.1223\n",
            "Epoch 22/50\n",
            "\u001b[1m131/131\u001b[0m \u001b[32m━━━━━━━━━━━━━━━━━━━━\u001b[0m\u001b[37m\u001b[0m \u001b[1m112s\u001b[0m 854ms/step - Recall: 0.9734 - loss: 0.1053 - val_Recall: 0.9408 - val_loss: 0.1218\n",
            "Epoch 23/50\n",
            "\u001b[1m131/131\u001b[0m \u001b[32m━━━━━━━━━━━━━━━━━━━━\u001b[0m\u001b[37m\u001b[0m \u001b[1m110s\u001b[0m 843ms/step - Recall: 0.9737 - loss: 0.0949 - val_Recall: 0.9447 - val_loss: 0.1162\n",
            "Epoch 24/50\n",
            "\u001b[1m131/131\u001b[0m \u001b[32m━━━━━━━━━━━━━━━━━━━━\u001b[0m\u001b[37m\u001b[0m \u001b[1m112s\u001b[0m 852ms/step - Recall: 0.9748 - loss: 0.1022 - val_Recall: 0.9408 - val_loss: 0.1232\n",
            "Epoch 25/50\n",
            "\u001b[1m131/131\u001b[0m \u001b[32m━━━━━━━━━━━━━━━━━━━━\u001b[0m\u001b[37m\u001b[0m \u001b[1m108s\u001b[0m 828ms/step - Recall: 0.9791 - loss: 0.0880 - val_Recall: 0.9562 - val_loss: 0.1021\n",
            "Epoch 26/50\n",
            "\u001b[1m131/131\u001b[0m \u001b[32m━━━━━━━━━━━━━━━━━━━━\u001b[0m\u001b[37m\u001b[0m \u001b[1m112s\u001b[0m 858ms/step - Recall: 0.9769 - loss: 0.0879 - val_Recall: 0.9241 - val_loss: 0.1515\n",
            "Epoch 27/50\n",
            "\u001b[1m131/131\u001b[0m \u001b[32m━━━━━━━━━━━━━━━━━━━━\u001b[0m\u001b[37m\u001b[0m \u001b[1m110s\u001b[0m 843ms/step - Recall: 0.9765 - loss: 0.0915 - val_Recall: 0.9575 - val_loss: 0.0986\n",
            "Epoch 28/50\n",
            "\u001b[1m131/131\u001b[0m \u001b[32m━━━━━━━━━━━━━━━━━━━━\u001b[0m\u001b[37m\u001b[0m \u001b[1m110s\u001b[0m 837ms/step - Recall: 0.9782 - loss: 0.0993 - val_Recall: 0.9550 - val_loss: 0.1024\n",
            "Epoch 29/50\n",
            "\u001b[1m131/131\u001b[0m \u001b[32m━━━━━━━━━━━━━━━━━━━━\u001b[0m\u001b[37m\u001b[0m \u001b[1m110s\u001b[0m 842ms/step - Recall: 0.9759 - loss: 0.0945 - val_Recall: 0.9472 - val_loss: 0.1091\n",
            "Epoch 30/50\n",
            "\u001b[1m131/131\u001b[0m \u001b[32m━━━━━━━━━━━━━━━━━━━━\u001b[0m\u001b[37m\u001b[0m \u001b[1m110s\u001b[0m 837ms/step - Recall: 0.9814 - loss: 0.0942 - val_Recall: 0.9459 - val_loss: 0.1128\n",
            "Epoch 31/50\n",
            "\u001b[1m131/131\u001b[0m \u001b[32m━━━━━━━━━━━━━━━━━━━━\u001b[0m\u001b[37m\u001b[0m \u001b[1m110s\u001b[0m 841ms/step - Recall: 0.9752 - loss: 0.1032 - val_Recall: 0.9601 - val_loss: 0.0976\n",
            "Epoch 32/50\n",
            "\u001b[1m131/131\u001b[0m \u001b[32m━━━━━━━━━━━━━━━━━━━━\u001b[0m\u001b[37m\u001b[0m \u001b[1m110s\u001b[0m 843ms/step - Recall: 0.9766 - loss: 0.0982 - val_Recall: 0.9344 - val_loss: 0.1265\n",
            "Epoch 33/50\n",
            "\u001b[1m131/131\u001b[0m \u001b[32m━━━━━━━━━━━━━━━━━━━━\u001b[0m\u001b[37m\u001b[0m \u001b[1m110s\u001b[0m 841ms/step - Recall: 0.9813 - loss: 0.0859 - val_Recall: 0.9562 - val_loss: 0.0991\n",
            "Epoch 34/50\n",
            "\u001b[1m131/131\u001b[0m \u001b[32m━━━━━━━━━━━━━━━━━━━━\u001b[0m\u001b[37m\u001b[0m \u001b[1m110s\u001b[0m 844ms/step - Recall: 0.9771 - loss: 0.0914 - val_Recall: 0.9279 - val_loss: 0.1462\n",
            "Epoch 35/50\n",
            "\u001b[1m131/131\u001b[0m \u001b[32m━━━━━━━━━━━━━━━━━━━━\u001b[0m\u001b[37m\u001b[0m \u001b[1m109s\u001b[0m 834ms/step - Recall: 0.9794 - loss: 0.0923 - val_Recall: 0.9485 - val_loss: 0.1073\n",
            "Epoch 36/50\n",
            "\u001b[1m131/131\u001b[0m \u001b[32m━━━━━━━━━━━━━━━━━━━━\u001b[0m\u001b[37m\u001b[0m \u001b[1m108s\u001b[0m 828ms/step - Recall: 0.9794 - loss: 0.0930 - val_Recall: 0.9614 - val_loss: 0.0948\n",
            "Epoch 37/50\n",
            "\u001b[1m131/131\u001b[0m \u001b[32m━━━━━━━━━━━━━━━━━━━━\u001b[0m\u001b[37m\u001b[0m \u001b[1m111s\u001b[0m 850ms/step - Recall: 0.9793 - loss: 0.0977 - val_Recall: 0.9588 - val_loss: 0.0935\n",
            "Epoch 38/50\n",
            "\u001b[1m131/131\u001b[0m \u001b[32m━━━━━━━━━━━━━━━━━━━━\u001b[0m\u001b[37m\u001b[0m \u001b[1m111s\u001b[0m 848ms/step - Recall: 0.9788 - loss: 0.0956 - val_Recall: 0.9331 - val_loss: 0.1335\n",
            "Epoch 39/50\n",
            "\u001b[1m131/131\u001b[0m \u001b[32m━━━━━━━━━━━━━━━━━━━━\u001b[0m\u001b[37m\u001b[0m \u001b[1m110s\u001b[0m 842ms/step - Recall: 0.9766 - loss: 0.0820 - val_Recall: 0.9627 - val_loss: 0.0914\n",
            "Epoch 40/50\n",
            "\u001b[1m131/131\u001b[0m \u001b[32m━━━━━━━━━━━━━━━━━━━━\u001b[0m\u001b[37m\u001b[0m \u001b[1m110s\u001b[0m 841ms/step - Recall: 0.9802 - loss: 0.0818 - val_Recall: 0.9562 - val_loss: 0.1025\n",
            "Epoch 41/50\n",
            "\u001b[1m131/131\u001b[0m \u001b[32m━━━━━━━━━━━━━━━━━━━━\u001b[0m\u001b[37m\u001b[0m \u001b[1m109s\u001b[0m 835ms/step - Recall: 0.9806 - loss: 0.0899 - val_Recall: 0.9562 - val_loss: 0.1010\n",
            "Epoch 42/50\n",
            "\u001b[1m131/131\u001b[0m \u001b[32m━━━━━━━━━━━━━━━━━━━━\u001b[0m\u001b[37m\u001b[0m \u001b[1m109s\u001b[0m 834ms/step - Recall: 0.9808 - loss: 0.0839 - val_Recall: 0.9627 - val_loss: 0.0874\n",
            "Epoch 43/50\n",
            "\u001b[1m131/131\u001b[0m \u001b[32m━━━━━━━━━━━━━━━━━━━━\u001b[0m\u001b[37m\u001b[0m \u001b[1m110s\u001b[0m 838ms/step - Recall: 0.9828 - loss: 0.0754 - val_Recall: 0.9575 - val_loss: 0.0985\n",
            "Epoch 44/50\n",
            "\u001b[1m131/131\u001b[0m \u001b[32m━━━━━━━━━━━━━━━━━━━━\u001b[0m\u001b[37m\u001b[0m \u001b[1m111s\u001b[0m 845ms/step - Recall: 0.9819 - loss: 0.0897 - val_Recall: 0.9421 - val_loss: 0.1156\n",
            "Epoch 45/50\n",
            "\u001b[1m131/131\u001b[0m \u001b[32m━━━━━━━━━━━━━━━━━━━━\u001b[0m\u001b[37m\u001b[0m \u001b[1m112s\u001b[0m 852ms/step - Recall: 0.9768 - loss: 0.0738 - val_Recall: 0.9356 - val_loss: 0.1239\n",
            "Epoch 46/50\n",
            "\u001b[1m131/131\u001b[0m \u001b[32m━━━━━━━━━━━━━━━━━━━━\u001b[0m\u001b[37m\u001b[0m \u001b[1m113s\u001b[0m 860ms/step - Recall: 0.9770 - loss: 0.0773 - val_Recall: 0.9550 - val_loss: 0.0994\n",
            "Epoch 47/50\n",
            "\u001b[1m131/131\u001b[0m \u001b[32m━━━━━━━━━━━━━━━━━━━━\u001b[0m\u001b[37m\u001b[0m \u001b[1m111s\u001b[0m 848ms/step - Recall: 0.9771 - loss: 0.0775 - val_Recall: 0.9369 - val_loss: 0.1300\n",
            "Epoch 48/50\n",
            "\u001b[1m131/131\u001b[0m \u001b[32m━━━━━━━━━━━━━━━━━━━━\u001b[0m\u001b[37m\u001b[0m \u001b[1m111s\u001b[0m 848ms/step - Recall: 0.9810 - loss: 0.0751 - val_Recall: 0.9550 - val_loss: 0.0993\n",
            "Epoch 49/50\n",
            "\u001b[1m131/131\u001b[0m \u001b[32m━━━━━━━━━━━━━━━━━━━━\u001b[0m\u001b[37m\u001b[0m \u001b[1m111s\u001b[0m 846ms/step - Recall: 0.9814 - loss: 0.0755 - val_Recall: 0.9575 - val_loss: 0.0982\n",
            "Epoch 50/50\n",
            "\u001b[1m131/131\u001b[0m \u001b[32m━━━━━━━━━━━━━━━━━━━━\u001b[0m\u001b[37m\u001b[0m \u001b[1m111s\u001b[0m 846ms/step - Recall: 0.9764 - loss: 0.0884 - val_Recall: 0.9408 - val_loss: 0.1193\n"
          ]
        }
      ],
      "source": [
        "history = model.fit(\n",
        "    ds_train,\n",
        "    epochs=50,\n",
        "    validation_data=ds_val)"
      ]
    },
    {
      "cell_type": "code",
      "source": [
        "model.save(\"/content/drive/MyDrive/chest_xray/densenet121_model_base.keras\")"
      ],
      "metadata": {
        "id": "vJSa7UiwEvbM"
      },
      "execution_count": null,
      "outputs": []
    },
    {
      "cell_type": "code",
      "source": [
        "from tensorflow import keras\n",
        "\n",
        "model = keras.models.load_model(\"/content/drive/MyDrive/chest_xray/densenet121_model_base.keras\")\n"
      ],
      "metadata": {
        "id": "Z7pmfUp5fN4_"
      },
      "execution_count": null,
      "outputs": []
    },
    {
      "cell_type": "code",
      "source": [
        "from tensorflow.keras.callbacks import EarlyStopping\n",
        "\n",
        "early_stopping = EarlyStopping(\n",
        "    monitor='val_loss',\n",
        "    patience=5,\n",
        "    restore_best_weights=True\n",
        ")"
      ],
      "metadata": {
        "id": "6Lh6gu6dwI3e"
      },
      "execution_count": null,
      "outputs": []
    },
    {
      "cell_type": "code",
      "source": [
        "from tensorflow.keras.callbacks import ModelCheckpoint\n",
        "\n",
        "checkpoint = ModelCheckpoint(\n",
        "    '/content/drive/MyDrive/chest_xray/densenet121_model_finetune.keras',\n",
        "    monitor='val_loss',\n",
        "    save_best_only=True,\n",
        "    mode='min'\n",
        ")"
      ],
      "metadata": {
        "id": "_LLMdntuv5xM"
      },
      "execution_count": null,
      "outputs": []
    },
    {
      "cell_type": "code",
      "execution_count": null,
      "metadata": {
        "id": "QgXI9REJu7Rs",
        "outputId": "2974ba36-7b44-401b-cc9b-13a6c9f3c9cc",
        "colab": {
          "base_uri": "https://localhost:8080/"
        }
      },
      "outputs": [
        {
          "output_type": "stream",
          "name": "stdout",
          "text": [
            "Epoch 1/10\n",
            "\u001b[1m131/131\u001b[0m \u001b[32m━━━━━━━━━━━━━━━━━━━━\u001b[0m\u001b[37m\u001b[0m \u001b[1m256s\u001b[0m 1s/step - Recall: 0.9607 - loss: 0.3001 - val_Recall: 0.9910 - val_loss: 0.2395\n",
            "Epoch 2/10\n",
            "\u001b[1m131/131\u001b[0m \u001b[32m━━━━━━━━━━━━━━━━━━━━\u001b[0m\u001b[37m\u001b[0m \u001b[1m173s\u001b[0m 1s/step - Recall: 0.9659 - loss: 0.1285 - val_Recall: 0.9923 - val_loss: 0.3022\n",
            "Epoch 3/10\n",
            "\u001b[1m131/131\u001b[0m \u001b[32m━━━━━━━━━━━━━━━━━━━━\u001b[0m\u001b[37m\u001b[0m \u001b[1m181s\u001b[0m 1s/step - Recall: 0.9730 - loss: 0.0997 - val_Recall: 0.9537 - val_loss: 0.1408\n",
            "Epoch 4/10\n",
            "\u001b[1m131/131\u001b[0m \u001b[32m━━━━━━━━━━━━━━━━━━━━\u001b[0m\u001b[37m\u001b[0m \u001b[1m173s\u001b[0m 1s/step - Recall: 0.9765 - loss: 0.0777 - val_Recall: 0.9344 - val_loss: 0.1548\n",
            "Epoch 5/10\n",
            "\u001b[1m131/131\u001b[0m \u001b[32m━━━━━━━━━━━━━━━━━━━━\u001b[0m\u001b[37m\u001b[0m \u001b[1m172s\u001b[0m 1s/step - Recall: 0.9752 - loss: 0.0816 - val_Recall: 0.8958 - val_loss: 0.2697\n",
            "Epoch 6/10\n",
            "\u001b[1m131/131\u001b[0m \u001b[32m━━━━━━━━━━━━━━━━━━━━\u001b[0m\u001b[37m\u001b[0m \u001b[1m174s\u001b[0m 1s/step - Recall: 0.9822 - loss: 0.0595 - val_Recall: 0.8945 - val_loss: 0.2757\n",
            "Epoch 7/10\n",
            "\u001b[1m131/131\u001b[0m \u001b[32m━━━━━━━━━━━━━━━━━━━━\u001b[0m\u001b[37m\u001b[0m \u001b[1m173s\u001b[0m 1s/step - Recall: 0.9838 - loss: 0.0615 - val_Recall: 0.9202 - val_loss: 0.2104\n",
            "Epoch 8/10\n",
            "\u001b[1m131/131\u001b[0m \u001b[32m━━━━━━━━━━━━━━━━━━━━\u001b[0m\u001b[37m\u001b[0m \u001b[1m175s\u001b[0m 1s/step - Recall: 0.9920 - loss: 0.0444 - val_Recall: 0.9550 - val_loss: 0.1192\n",
            "Epoch 9/10\n",
            "\u001b[1m131/131\u001b[0m \u001b[32m━━━━━━━━━━━━━━━━━━━━\u001b[0m\u001b[37m\u001b[0m \u001b[1m173s\u001b[0m 1s/step - Recall: 0.9885 - loss: 0.0512 - val_Recall: 0.9344 - val_loss: 0.1730\n",
            "Epoch 10/10\n",
            "\u001b[1m131/131\u001b[0m \u001b[32m━━━━━━━━━━━━━━━━━━━━\u001b[0m\u001b[37m\u001b[0m \u001b[1m172s\u001b[0m 1s/step - Recall: 0.9925 - loss: 0.0327 - val_Recall: 0.9241 - val_loss: 0.2093\n"
          ]
        },
        {
          "output_type": "execute_result",
          "data": {
            "text/plain": [
              "<keras.src.callbacks.history.History at 0x7fed9a9e3e50>"
            ]
          },
          "metadata": {},
          "execution_count": 33
        }
      ],
      "source": [
        "for layer in model.layers[-71:]:\n",
        "    layer.trainable = True\n",
        "\n",
        "# Giảm learning rate để tránh làm mất trọng số pretrained\n",
        "model.compile(optimizer=tf.keras.optimizers.Adam(learning_rate=1e-5),\n",
        "              loss='binary_crossentropy', metrics=['Recall'])\n",
        "\n",
        "# Tiếp tục train\n",
        "model.fit(ds_train,\n",
        "          epochs=10,\n",
        "          validation_data=ds_val,\n",
        "          callbacks=[early_stopping, checkpoint]\n",
        "          )"
      ]
    },
    {
      "cell_type": "code",
      "execution_count": null,
      "metadata": {
        "id": "QZyhPC5PyWYa",
        "colab": {
          "base_uri": "https://localhost:8080/"
        },
        "outputId": "215b910a-8069-4a2e-9c42-4d409e2c0a78"
      },
      "outputs": [
        {
          "output_type": "stream",
          "name": "stdout",
          "text": [
            "\u001b[1m624/624\u001b[0m \u001b[32m━━━━━━━━━━━━━━━━━━━━\u001b[0m\u001b[37m\u001b[0m \u001b[1m360s\u001b[0m 577ms/step - Recall: 0.6200 - loss: 0.1751\n",
            "Test accuracy: 0.9871794581413269\n"
          ]
        }
      ],
      "source": [
        "test_loss, test_accuracy = model.evaluate(ds_test)\n",
        "print(\"Test accuracy:\", test_accuracy)"
      ]
    },
    {
      "cell_type": "code",
      "execution_count": null,
      "metadata": {
        "id": "sNIOM3XBu7Rt",
        "colab": {
          "base_uri": "https://localhost:8080/"
        },
        "outputId": "79dbc74b-76c4-4811-e2df-a669d0e42187"
      },
      "outputs": [
        {
          "output_type": "stream",
          "name": "stdout",
          "text": [
            "\u001b[1m624/624\u001b[0m \u001b[32m━━━━━━━━━━━━━━━━━━━━\u001b[0m\u001b[37m\u001b[0m \u001b[1m22s\u001b[0m 29ms/step\n"
          ]
        }
      ],
      "source": [
        "y_true = np.array(ds_test.classes)  # Nhãn thực tế\n",
        "y_pred_probs = model.predict(ds_test)  # Dự đoán xác suất\n",
        "y_pred = np.round(y_pred_probs).astype(int).flatten()  # Chuyển thành 0/1"
      ]
    },
    {
      "cell_type": "code",
      "execution_count": null,
      "metadata": {
        "id": "TiFESXTqu7Rt",
        "colab": {
          "base_uri": "https://localhost:8080/"
        },
        "outputId": "c4df05d6-9f96-4e16-e015-f3b54057b2b1"
      },
      "outputs": [
        {
          "output_type": "stream",
          "name": "stdout",
          "text": [
            "Recall: 0.9872\n"
          ]
        }
      ],
      "source": [
        "from sklearn.metrics import recall_score\n",
        "recall = recall_score(y_true, y_pred)\n",
        "print(f\"Recall: {recall:.4f}\")\n"
      ]
    },
    {
      "cell_type": "code",
      "execution_count": null,
      "metadata": {
        "id": "KVFAxNFZu7Rt",
        "colab": {
          "base_uri": "https://localhost:8080/",
          "height": 487
        },
        "outputId": "3f45f873-2324-496f-d4fb-329f545b3013"
      },
      "outputs": [
        {
          "output_type": "display_data",
          "data": {
            "text/plain": [
              "<Figure size 600x500 with 2 Axes>"
            ],
            "image/png": "[encoded data removed]"
          },
          "metadata": {}
        }
      ],
      "source": [
        "from sklearn.metrics import confusion_matrix\n",
        "import seaborn as sns\n",
        "cm = confusion_matrix(y_true, y_pred)\n",
        "\n",
        "# Vẽ heatmap\n",
        "plt.figure(figsize=(6, 5))\n",
        "sns.heatmap(cm, annot=True, fmt='d', cmap='Blues', xticklabels=[\"Negative\", \"Positive\"], yticklabels=[\"Negative\", \"Positive\"])\n",
        "plt.xlabel(\"Predicted Label\")\n",
        "plt.ylabel(\"True Label\")\n",
        "plt.title(\"Confusion Matrix for DenseNet121\")\n",
        "plt.show()"
      ]
    },
    {
      "cell_type": "code",
      "source": [
        "bestmodel = keras.models.load_model(\"/content/drive/MyDrive/chest_xray/densenet121_model_finetune.keras\")"
      ],
      "metadata": {
        "id": "04Gihbme5hNg"
      },
      "execution_count": null,
      "outputs": []
    },
    {
      "cell_type": "code",
      "source": [
        "# prompt: Đánh gia best model bằng các thông số accuracry, recall, precision, F1-score và không vẽ confusion matrix\n",
        "\n",
        "from sklearn.metrics import accuracy_score, precision_score, f1_score, recall_score\n",
        "\n",
        "# ... (previous code)\n",
        "\n",
        "y_true = np.array(ds_test.classes)\n",
        "y_pred_probs = bestmodel.predict(ds_test)\n",
        "y_pred = np.round(y_pred_probs).astype(int).flatten()\n",
        "\n",
        "accuracy = accuracy_score(y_true, y_pred)\n",
        "recall = recall_score(y_true, y_pred)\n",
        "precision = precision_score(y_true, y_pred)\n",
        "f1 = f1_score(y_true, y_pred)\n",
        "\n",
        "\n",
        "print(f\"Accuracy: {accuracy:.4f}\")\n",
        "print(f\"Recall: {recall:.4f}\")\n",
        "print(f\"Precision: {precision:.4f}\")\n",
        "print(f\"F1-score: {f1:.4f}\")\n"
      ],
      "metadata": {
        "colab": {
          "base_uri": "https://localhost:8080/"
        },
        "id": "QT5h8P0vHmqO",
        "outputId": "1f5c4447-893d-4977-ca9d-57f424a84a3a"
      },
      "execution_count": null,
      "outputs": [
        {
          "output_type": "stream",
          "name": "stdout",
          "text": [
            "\u001b[1m624/624\u001b[0m \u001b[32m━━━━━━━━━━━━━━━━━━━━\u001b[0m\u001b[37m\u001b[0m \u001b[1m189s\u001b[0m 304ms/step\n",
            "Accuracy: 0.9679\n",
            "Recall: 0.9872\n",
            "Precision: 0.9625\n",
            "F1-score: 0.9747\n"
          ]
        }
      ]
    },
    {
      "cell_type": "code",
      "source": [
        "y_true = np.array(ds_test.classes)  # Nhãn thực tế\n",
        "y_pred_probs = bestmodel.predict(ds_test)  # Dự đoán xác suất\n"
      ],
      "metadata": {
        "colab": {
          "base_uri": "https://localhost:8080/"
        },
        "id": "GRh6PmE755Tb",
        "outputId": "698edeca-a31e-4814-e7c1-c4756ec6bd2e"
      },
      "execution_count": null,
      "outputs": [
        {
          "output_type": "stream",
          "name": "stdout",
          "text": [
            "\u001b[1m624/624\u001b[0m \u001b[32m━━━━━━━━━━━━━━━━━━━━\u001b[0m\u001b[37m\u001b[0m \u001b[1m22s\u001b[0m 29ms/step\n"
          ]
        }
      ]
    },
    {
      "cell_type": "code",
      "source": [
        "threshold = 0.5\n",
        "y_pred = (y_pred_probs >= threshold).astype(int).flatten()"
      ],
      "metadata": {
        "id": "qa-F-0I-6YpY"
      },
      "execution_count": null,
      "outputs": []
    },
    {
      "cell_type": "code",
      "source": [
        "from sklearn.metrics import recall_score\n",
        "recall = recall_score(y_true, y_pred)\n",
        "print(f\"Recall: {recall:.4f}\")"
      ],
      "metadata": {
        "colab": {
          "base_uri": "https://localhost:8080/"
        },
        "id": "CfQwh_ND5-mE",
        "outputId": "3d25434a-5d7a-487d-d982-f56814ac33df"
      },
      "execution_count": null,
      "outputs": [
        {
          "output_type": "stream",
          "name": "stdout",
          "text": [
            "Recall: 0.9872\n"
          ]
        }
      ]
    },
    {
      "cell_type": "code",
      "source": [
        "cm = confusion_matrix(y_true, y_pred)\n",
        "\n",
        "# Vẽ heatmap\n",
        "plt.figure(figsize=(6, 5))\n",
        "sns.heatmap(cm, annot=True, fmt='d', cmap='Blues', xticklabels=[\"Negative\", \"Positive\"], yticklabels=[\"Negative\", \"Positive\"])\n",
        "plt.xlabel(\"Predicted Label\")\n",
        "plt.ylabel(\"True Label\")\n",
        "plt.title(\"Confusion Matrix for DenseNet121\")\n",
        "plt.show()"
      ],
      "metadata": {
        "colab": {
          "base_uri": "https://localhost:8080/",
          "height": 487
        },
        "id": "3Fb2Fn605kOJ",
        "outputId": "173697ac-ec86-4c87-e281-a2e91b960f61"
      },
      "execution_count": null,
      "outputs": [
        {
          "output_type": "display_data",
          "data": {
            "text/plain": [
              "<Figure size 600x500 with 2 Axes>"
            ],
            "image/png": "[encoded data removed]"
          },
          "metadata": {}
        }
      ]
    }
  ],
  "metadata": {
    "accelerator": "GPU",
    "colab": {
      "gpuType": "T4",
      "provenance": [],
      "machine_shape": "hm",
      "toc_visible": true
    },
    "kernelspec": {
      "display_name": "Python 3",
      "name": "python3"
    },
    "language_info": {
      "codemirror_mode": {
        "name": "ipython",
        "version": 3
      },
      "file_extension": ".py",
      "mimetype": "text/x-python",
      "name": "python",
      "nbconvert_exporter": "python",
      "pygments_lexer": "ipython3",
      "version": "3.8.20"
    }
  },
  "nbformat": 4,
  "nbformat_minor": 0
}